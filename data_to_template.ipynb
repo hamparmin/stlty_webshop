{
 "metadata": {
  "language_info": {
   "codemirror_mode": {
    "name": "ipython",
    "version": 3
   },
   "file_extension": ".py",
   "mimetype": "text/x-python",
   "name": "python",
   "nbconvert_exporter": "python",
   "pygments_lexer": "ipython3",
   "version": "3.7.4-final"
  },
  "orig_nbformat": 2,
  "kernelspec": {
   "name": "Python 3.7.4 64-bit ('base': conda)",
   "display_name": "Python 3.7.4 64-bit ('base': conda)",
   "metadata": {
    "interpreter": {
     "hash": "ccf5f43cb2624e4adf3e8be39f4dcad3aa8684e7dbc7726ef326286522509c20"
    }
   }
  }
 },
 "nbformat": 4,
 "nbformat_minor": 2,
 "cells": [
  {
   "source": [
    "# Product Processing For Shopify Template\n",
    "Shopify allows for a a bulk upload of products, for which it provides a CSV template. This template is imported here, and our already existing product list is processed and put into the template. This is extremely useful, given the amount of products that we have."
   ],
   "cell_type": "markdown",
   "metadata": {}
  },
  {
   "cell_type": "code",
   "execution_count": 2,
   "metadata": {},
   "outputs": [],
   "source": [
    "import numpy as np\n",
    "import pandas as pd"
   ]
  },
  {
   "cell_type": "code",
   "execution_count": 4,
   "metadata": {},
   "outputs": [
    {
     "output_type": "execute_result",
     "data": {
      "text/plain": "            Handle            Title  Body (HTML) Vendor    Type  \\\n0  example-t-shirt  Example T-Shirt          NaN   Acme  Shirts   \n1  example-t-shirt              NaN          NaN    NaN     NaN   \n2  example-t-shirt              NaN          NaN    NaN     NaN   \n\n                   Tags Published Option1 Name  \\\n0  mens t-shirt example      True        Title   \n1                   NaN       NaN          NaN   \n2                   NaN       NaN          NaN   \n\n                          Option1 Value  Option2 Name  ...  \\\n0  Lithograph - Height: 9\" x Width: 12\"           NaN  ...   \n1                                 Small           NaN  ...   \n2                                Medium           NaN  ...   \n\n   Google Shopping / Custom Product  Google Shopping / Custom Label 0  \\\n0                             False                               NaN   \n1                               NaN                               NaN   \n2                               NaN                               NaN   \n\n   Google Shopping / Custom Label 1 Google Shopping / Custom Label 2  \\\n0                               NaN                              NaN   \n1                               NaN                              NaN   \n2                               NaN                              NaN   \n\n   Google Shopping / Custom Label 3 Google Shopping / Custom Label 4  \\\n0                               NaN                              NaN   \n1                               NaN                              NaN   \n2                               NaN                              NaN   \n\n   Variant Image Variant Weight Unit Variant Tax Code  Cost per item  \n0            NaN                   g              NaN            NaN  \n1            NaN                   g              NaN            NaN  \n2            NaN                   g              NaN            NaN  \n\n[3 rows x 47 columns]",
      "text/html": "<div>\n<style scoped>\n    .dataframe tbody tr th:only-of-type {\n        vertical-align: middle;\n    }\n\n    .dataframe tbody tr th {\n        vertical-align: top;\n    }\n\n    .dataframe thead th {\n        text-align: right;\n    }\n</style>\n<table border=\"1\" class=\"dataframe\">\n  <thead>\n    <tr style=\"text-align: right;\">\n      <th></th>\n      <th>Handle</th>\n      <th>Title</th>\n      <th>Body (HTML)</th>\n      <th>Vendor</th>\n      <th>Type</th>\n      <th>Tags</th>\n      <th>Published</th>\n      <th>Option1 Name</th>\n      <th>Option1 Value</th>\n      <th>Option2 Name</th>\n      <th>...</th>\n      <th>Google Shopping / Custom Product</th>\n      <th>Google Shopping / Custom Label 0</th>\n      <th>Google Shopping / Custom Label 1</th>\n      <th>Google Shopping / Custom Label 2</th>\n      <th>Google Shopping / Custom Label 3</th>\n      <th>Google Shopping / Custom Label 4</th>\n      <th>Variant Image</th>\n      <th>Variant Weight Unit</th>\n      <th>Variant Tax Code</th>\n      <th>Cost per item</th>\n    </tr>\n  </thead>\n  <tbody>\n    <tr>\n      <td>0</td>\n      <td>example-t-shirt</td>\n      <td>Example T-Shirt</td>\n      <td>NaN</td>\n      <td>Acme</td>\n      <td>Shirts</td>\n      <td>mens t-shirt example</td>\n      <td>True</td>\n      <td>Title</td>\n      <td>Lithograph - Height: 9\" x Width: 12\"</td>\n      <td>NaN</td>\n      <td>...</td>\n      <td>False</td>\n      <td>NaN</td>\n      <td>NaN</td>\n      <td>NaN</td>\n      <td>NaN</td>\n      <td>NaN</td>\n      <td>NaN</td>\n      <td>g</td>\n      <td>NaN</td>\n      <td>NaN</td>\n    </tr>\n    <tr>\n      <td>1</td>\n      <td>example-t-shirt</td>\n      <td>NaN</td>\n      <td>NaN</td>\n      <td>NaN</td>\n      <td>NaN</td>\n      <td>NaN</td>\n      <td>NaN</td>\n      <td>NaN</td>\n      <td>Small</td>\n      <td>NaN</td>\n      <td>...</td>\n      <td>NaN</td>\n      <td>NaN</td>\n      <td>NaN</td>\n      <td>NaN</td>\n      <td>NaN</td>\n      <td>NaN</td>\n      <td>NaN</td>\n      <td>g</td>\n      <td>NaN</td>\n      <td>NaN</td>\n    </tr>\n    <tr>\n      <td>2</td>\n      <td>example-t-shirt</td>\n      <td>NaN</td>\n      <td>NaN</td>\n      <td>NaN</td>\n      <td>NaN</td>\n      <td>NaN</td>\n      <td>NaN</td>\n      <td>NaN</td>\n      <td>Medium</td>\n      <td>NaN</td>\n      <td>...</td>\n      <td>NaN</td>\n      <td>NaN</td>\n      <td>NaN</td>\n      <td>NaN</td>\n      <td>NaN</td>\n      <td>NaN</td>\n      <td>NaN</td>\n      <td>g</td>\n      <td>NaN</td>\n      <td>NaN</td>\n    </tr>\n  </tbody>\n</table>\n<p>3 rows × 47 columns</p>\n</div>"
     },
     "metadata": {},
     "execution_count": 4
    }
   ],
   "source": [
    "template=pd.read_csv('product_template.csv')\n",
    "template.head()"
   ]
  },
  {
   "source": [
    "An explanation for the variables in the template can be found at [Shopify's Admin Documentation Page](https://help.shopify.com/en/manual/products/import-export/using-csv#product-csv-file-format)."
   ],
   "cell_type": "markdown",
   "metadata": {}
  },
  {
   "cell_type": "code",
   "execution_count": 5,
   "metadata": {},
   "outputs": [
    {
     "output_type": "execute_result",
     "data": {
      "text/plain": "                   Kategorie NEU            Sortierung  \\\n0  Alkoholfreie Gertänke & Sirup            Fruchtsaft   \n1  Alkoholfreie Gertänke & Sirup            Fruchtsaft   \n2  Alkoholfreie Gertänke & Sirup            Fruchtsaft   \n3  Alkoholfreie Gertänke & Sirup            Fruchtsaft   \n4  Alkoholfreie Gertänke & Sirup  Fruchtsaft gespritzt   \n\n                 Produktbezeichnung                Produzent     Ländleherz  \\\n0     SUTTERLÜTY'S APFEL-BIRNENSAFT  Mosterei Kramml, Lustenau  Us'm Ländle   \n1            SUTTERLÜTY'S APFELSAFT  Mosterei Kramml, Lustenau  Us'm Ländle   \n2    SUTTERLÜTY'S APFELSAFT BOSKOOP  Mosterei Kramml, Lustenau  Us'm Ländle   \n3   SUTTERLÜTY'S APFELSAFT JONAGOLD  Mosterei Kramml, Lustenau  Us'm Ländle   \n4  SUTTERLÜTY'S APFELSAFT G'SPRITZT  Mosterei Kramml, Lustenau  Us'm Ländle   \n\n  Saisonal \\nerhältlich                                       Produkt Text  \n0                   NaN  Die Äpfel und Birnen für dieses reine Naturpro...  \n1                   NaN  Der naturtrübe Apfelsaft von der Mosterei Kram...  \n2                   NaN  Der Boskoop Apfel – bei uns im Ländle auch Led...  \n3                   NaN  Jonagold Äpfel werden bei uns im Ländle seit d...  \n4                   NaN  Sutterlüty’s gespritzter Apfelsaft ist ein rei...  ",
      "text/html": "<div>\n<style scoped>\n    .dataframe tbody tr th:only-of-type {\n        vertical-align: middle;\n    }\n\n    .dataframe tbody tr th {\n        vertical-align: top;\n    }\n\n    .dataframe thead th {\n        text-align: right;\n    }\n</style>\n<table border=\"1\" class=\"dataframe\">\n  <thead>\n    <tr style=\"text-align: right;\">\n      <th></th>\n      <th>Kategorie NEU</th>\n      <th>Sortierung</th>\n      <th>Produktbezeichnung</th>\n      <th>Produzent</th>\n      <th>Ländleherz</th>\n      <th>Saisonal \\nerhältlich</th>\n      <th>Produkt Text</th>\n    </tr>\n  </thead>\n  <tbody>\n    <tr>\n      <td>0</td>\n      <td>Alkoholfreie Gertänke &amp; Sirup</td>\n      <td>Fruchtsaft</td>\n      <td>SUTTERLÜTY'S APFEL-BIRNENSAFT</td>\n      <td>Mosterei Kramml, Lustenau</td>\n      <td>Us'm Ländle</td>\n      <td>NaN</td>\n      <td>Die Äpfel und Birnen für dieses reine Naturpro...</td>\n    </tr>\n    <tr>\n      <td>1</td>\n      <td>Alkoholfreie Gertänke &amp; Sirup</td>\n      <td>Fruchtsaft</td>\n      <td>SUTTERLÜTY'S APFELSAFT</td>\n      <td>Mosterei Kramml, Lustenau</td>\n      <td>Us'm Ländle</td>\n      <td>NaN</td>\n      <td>Der naturtrübe Apfelsaft von der Mosterei Kram...</td>\n    </tr>\n    <tr>\n      <td>2</td>\n      <td>Alkoholfreie Gertänke &amp; Sirup</td>\n      <td>Fruchtsaft</td>\n      <td>SUTTERLÜTY'S APFELSAFT BOSKOOP</td>\n      <td>Mosterei Kramml, Lustenau</td>\n      <td>Us'm Ländle</td>\n      <td>NaN</td>\n      <td>Der Boskoop Apfel – bei uns im Ländle auch Led...</td>\n    </tr>\n    <tr>\n      <td>3</td>\n      <td>Alkoholfreie Gertänke &amp; Sirup</td>\n      <td>Fruchtsaft</td>\n      <td>SUTTERLÜTY'S APFELSAFT JONAGOLD</td>\n      <td>Mosterei Kramml, Lustenau</td>\n      <td>Us'm Ländle</td>\n      <td>NaN</td>\n      <td>Jonagold Äpfel werden bei uns im Ländle seit d...</td>\n    </tr>\n    <tr>\n      <td>4</td>\n      <td>Alkoholfreie Gertänke &amp; Sirup</td>\n      <td>Fruchtsaft gespritzt</td>\n      <td>SUTTERLÜTY'S APFELSAFT G'SPRITZT</td>\n      <td>Mosterei Kramml, Lustenau</td>\n      <td>Us'm Ländle</td>\n      <td>NaN</td>\n      <td>Sutterlüty’s gespritzter Apfelsaft ist ein rei...</td>\n    </tr>\n  </tbody>\n</table>\n</div>"
     },
     "metadata": {},
     "execution_count": 5
    }
   ],
   "source": [
    "product_list=pd.read_csv('Product_List.csv')\n",
    "product_list.head()"
   ]
  },
  {
   "source": [
    "## 1. Feature Extraction\n",
    "In this section I am writing  helper functions to extract features (product name, description) from this product list and modify and match them to the template."
   ],
   "cell_type": "markdown",
   "metadata": {}
  },
  {
   "cell_type": "code",
   "execution_count": null,
   "metadata": {},
   "outputs": [],
   "source": [
    "\"\"\"\n",
    "Transformation key table:\n",
    "TEMPLATE <- PRODUCT LIST\n",
    "\n",
    "Handle <- Produktbezeichnung w/o 'SUTTERLUTY'S', umlauts\n",
    "Title <- Produktbezeichnung w/o 'SUTTERLUTY'S'\n",
    "Vendor <- Produzent\n",
    "Type <- Sortierung\n",
    "Tags <- TBD\n",
    "Published <- FALSE (while in dev stage)\n",
    "Option1 Name <- Title\n",
    "Option1 Value <- Default Title\n",
    "Other Option(s) <- TBD\n",
    "Variant Grams <- 0 / TBD\n",
    "Variant Inventory Policy <- deny\n",
    "Variant Fulfillment Service <- manual\n",
    "Variant Price <- rand() until we know prices\n",
    "\n",
    "\"\"\"\n",
    "\n"
   ]
  }
 ]
}