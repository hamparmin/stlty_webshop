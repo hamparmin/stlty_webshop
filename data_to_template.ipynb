{
 "metadata": {
  "language_info": {
   "codemirror_mode": {
    "name": "ipython",
    "version": 3
   },
   "file_extension": ".py",
   "mimetype": "text/x-python",
   "name": "python",
   "nbconvert_exporter": "python",
   "pygments_lexer": "ipython3",
   "version": "3.7.4-final"
  },
  "orig_nbformat": 2,
  "kernelspec": {
   "name": "Python 3.7.4 64-bit ('base': conda)",
   "display_name": "Python 3.7.4 64-bit ('base': conda)",
   "metadata": {
    "interpreter": {
     "hash": "ccf5f43cb2624e4adf3e8be39f4dcad3aa8684e7dbc7726ef326286522509c20"
    }
   }
  }
 },
 "nbformat": 4,
 "nbformat_minor": 2,
 "cells": [
  {
   "source": [
    "# Product Processing For Shopify Template\n",
    "Shopify allows for a a bulk upload of products, for which it provides a CSV template. This template is imported here, and our already existing product list is processed and put into the template. This is extremely useful, given the amount of products that we have."
   ],
   "cell_type": "markdown",
   "metadata": {}
  },
  {
   "cell_type": "code",
   "execution_count": 5,
   "metadata": {},
   "outputs": [],
   "source": [
    "import numpy as np\n",
    "import pandas as pd\n",
    "import random\n",
    "import unidecode"
   ]
  },
  {
   "cell_type": "code",
   "execution_count": 6,
   "metadata": {},
   "outputs": [
    {
     "output_type": "execute_result",
     "data": {
      "text/plain": "            Handle            Title  Body (HTML) Vendor    Type  \\\n0  example-t-shirt  Example T-Shirt          NaN   Acme  Shirts   \n1  example-t-shirt              NaN          NaN    NaN     NaN   \n2  example-t-shirt              NaN          NaN    NaN     NaN   \n\n                   Tags Published Option1 Name  \\\n0  mens t-shirt example      True        Title   \n1                   NaN       NaN          NaN   \n2                   NaN       NaN          NaN   \n\n                          Option1 Value  Option2 Name  ...  \\\n0  Lithograph - Height: 9\" x Width: 12\"           NaN  ...   \n1                                 Small           NaN  ...   \n2                                Medium           NaN  ...   \n\n   Google Shopping / Custom Product  Google Shopping / Custom Label 0  \\\n0                             False                               NaN   \n1                               NaN                               NaN   \n2                               NaN                               NaN   \n\n   Google Shopping / Custom Label 1 Google Shopping / Custom Label 2  \\\n0                               NaN                              NaN   \n1                               NaN                              NaN   \n2                               NaN                              NaN   \n\n   Google Shopping / Custom Label 3 Google Shopping / Custom Label 4  \\\n0                               NaN                              NaN   \n1                               NaN                              NaN   \n2                               NaN                              NaN   \n\n   Variant Image Variant Weight Unit Variant Tax Code  Cost per item  \n0            NaN                   g              NaN            NaN  \n1            NaN                   g              NaN            NaN  \n2            NaN                   g              NaN            NaN  \n\n[3 rows x 47 columns]",
      "text/html": "<div>\n<style scoped>\n    .dataframe tbody tr th:only-of-type {\n        vertical-align: middle;\n    }\n\n    .dataframe tbody tr th {\n        vertical-align: top;\n    }\n\n    .dataframe thead th {\n        text-align: right;\n    }\n</style>\n<table border=\"1\" class=\"dataframe\">\n  <thead>\n    <tr style=\"text-align: right;\">\n      <th></th>\n      <th>Handle</th>\n      <th>Title</th>\n      <th>Body (HTML)</th>\n      <th>Vendor</th>\n      <th>Type</th>\n      <th>Tags</th>\n      <th>Published</th>\n      <th>Option1 Name</th>\n      <th>Option1 Value</th>\n      <th>Option2 Name</th>\n      <th>...</th>\n      <th>Google Shopping / Custom Product</th>\n      <th>Google Shopping / Custom Label 0</th>\n      <th>Google Shopping / Custom Label 1</th>\n      <th>Google Shopping / Custom Label 2</th>\n      <th>Google Shopping / Custom Label 3</th>\n      <th>Google Shopping / Custom Label 4</th>\n      <th>Variant Image</th>\n      <th>Variant Weight Unit</th>\n      <th>Variant Tax Code</th>\n      <th>Cost per item</th>\n    </tr>\n  </thead>\n  <tbody>\n    <tr>\n      <td>0</td>\n      <td>example-t-shirt</td>\n      <td>Example T-Shirt</td>\n      <td>NaN</td>\n      <td>Acme</td>\n      <td>Shirts</td>\n      <td>mens t-shirt example</td>\n      <td>True</td>\n      <td>Title</td>\n      <td>Lithograph - Height: 9\" x Width: 12\"</td>\n      <td>NaN</td>\n      <td>...</td>\n      <td>False</td>\n      <td>NaN</td>\n      <td>NaN</td>\n      <td>NaN</td>\n      <td>NaN</td>\n      <td>NaN</td>\n      <td>NaN</td>\n      <td>g</td>\n      <td>NaN</td>\n      <td>NaN</td>\n    </tr>\n    <tr>\n      <td>1</td>\n      <td>example-t-shirt</td>\n      <td>NaN</td>\n      <td>NaN</td>\n      <td>NaN</td>\n      <td>NaN</td>\n      <td>NaN</td>\n      <td>NaN</td>\n      <td>NaN</td>\n      <td>Small</td>\n      <td>NaN</td>\n      <td>...</td>\n      <td>NaN</td>\n      <td>NaN</td>\n      <td>NaN</td>\n      <td>NaN</td>\n      <td>NaN</td>\n      <td>NaN</td>\n      <td>NaN</td>\n      <td>g</td>\n      <td>NaN</td>\n      <td>NaN</td>\n    </tr>\n    <tr>\n      <td>2</td>\n      <td>example-t-shirt</td>\n      <td>NaN</td>\n      <td>NaN</td>\n      <td>NaN</td>\n      <td>NaN</td>\n      <td>NaN</td>\n      <td>NaN</td>\n      <td>NaN</td>\n      <td>Medium</td>\n      <td>NaN</td>\n      <td>...</td>\n      <td>NaN</td>\n      <td>NaN</td>\n      <td>NaN</td>\n      <td>NaN</td>\n      <td>NaN</td>\n      <td>NaN</td>\n      <td>NaN</td>\n      <td>g</td>\n      <td>NaN</td>\n      <td>NaN</td>\n    </tr>\n  </tbody>\n</table>\n<p>3 rows × 47 columns</p>\n</div>"
     },
     "metadata": {},
     "execution_count": 6
    }
   ],
   "source": [
    "template=pd.read_csv('product_template.csv')\n",
    "template.head()"
   ]
  },
  {
   "source": [
    "An explanation for the variables in the template can be found at [Shopify's Admin Documentation Page](https://help.shopify.com/en/manual/products/import-export/using-csv#product-csv-file-format)."
   ],
   "cell_type": "markdown",
   "metadata": {}
  },
  {
   "cell_type": "code",
   "execution_count": 7,
   "metadata": {},
   "outputs": [
    {
     "output_type": "execute_result",
     "data": {
      "text/plain": "                   Kategorie NEU            Sortierung  \\\n0  Alkoholfreie Gertänke & Sirup            Fruchtsaft   \n1  Alkoholfreie Gertänke & Sirup            Fruchtsaft   \n2  Alkoholfreie Gertänke & Sirup            Fruchtsaft   \n3  Alkoholfreie Gertänke & Sirup            Fruchtsaft   \n4  Alkoholfreie Gertänke & Sirup  Fruchtsaft gespritzt   \n\n                 Produktbezeichnung                Produzent     Ländleherz  \\\n0     SUTTERLÜTY'S APFEL-BIRNENSAFT  Mosterei Kramml, Lustenau  Us'm Ländle   \n1            SUTTERLÜTY'S APFELSAFT  Mosterei Kramml, Lustenau  Us'm Ländle   \n2    SUTTERLÜTY'S APFELSAFT BOSKOOP  Mosterei Kramml, Lustenau  Us'm Ländle   \n3   SUTTERLÜTY'S APFELSAFT JONAGOLD  Mosterei Kramml, Lustenau  Us'm Ländle   \n4  SUTTERLÜTY'S APFELSAFT G'SPRITZT  Mosterei Kramml, Lustenau  Us'm Ländle   \n\n  Saisonal \\nerhältlich                                       Produkt Text  \n0                   NaN  Die Äpfel und Birnen für dieses reine Naturpro...  \n1                   NaN  Der naturtrübe Apfelsaft von der Mosterei Kram...  \n2                   NaN  Der Boskoop Apfel – bei uns im Ländle auch Led...  \n3                   NaN  Jonagold Äpfel werden bei uns im Ländle seit d...  \n4                   NaN  Sutterlüty’s gespritzter Apfelsaft ist ein rei...  ",
      "text/html": "<div>\n<style scoped>\n    .dataframe tbody tr th:only-of-type {\n        vertical-align: middle;\n    }\n\n    .dataframe tbody tr th {\n        vertical-align: top;\n    }\n\n    .dataframe thead th {\n        text-align: right;\n    }\n</style>\n<table border=\"1\" class=\"dataframe\">\n  <thead>\n    <tr style=\"text-align: right;\">\n      <th></th>\n      <th>Kategorie NEU</th>\n      <th>Sortierung</th>\n      <th>Produktbezeichnung</th>\n      <th>Produzent</th>\n      <th>Ländleherz</th>\n      <th>Saisonal \\nerhältlich</th>\n      <th>Produkt Text</th>\n    </tr>\n  </thead>\n  <tbody>\n    <tr>\n      <td>0</td>\n      <td>Alkoholfreie Gertänke &amp; Sirup</td>\n      <td>Fruchtsaft</td>\n      <td>SUTTERLÜTY'S APFEL-BIRNENSAFT</td>\n      <td>Mosterei Kramml, Lustenau</td>\n      <td>Us'm Ländle</td>\n      <td>NaN</td>\n      <td>Die Äpfel und Birnen für dieses reine Naturpro...</td>\n    </tr>\n    <tr>\n      <td>1</td>\n      <td>Alkoholfreie Gertänke &amp; Sirup</td>\n      <td>Fruchtsaft</td>\n      <td>SUTTERLÜTY'S APFELSAFT</td>\n      <td>Mosterei Kramml, Lustenau</td>\n      <td>Us'm Ländle</td>\n      <td>NaN</td>\n      <td>Der naturtrübe Apfelsaft von der Mosterei Kram...</td>\n    </tr>\n    <tr>\n      <td>2</td>\n      <td>Alkoholfreie Gertänke &amp; Sirup</td>\n      <td>Fruchtsaft</td>\n      <td>SUTTERLÜTY'S APFELSAFT BOSKOOP</td>\n      <td>Mosterei Kramml, Lustenau</td>\n      <td>Us'm Ländle</td>\n      <td>NaN</td>\n      <td>Der Boskoop Apfel – bei uns im Ländle auch Led...</td>\n    </tr>\n    <tr>\n      <td>3</td>\n      <td>Alkoholfreie Gertänke &amp; Sirup</td>\n      <td>Fruchtsaft</td>\n      <td>SUTTERLÜTY'S APFELSAFT JONAGOLD</td>\n      <td>Mosterei Kramml, Lustenau</td>\n      <td>Us'm Ländle</td>\n      <td>NaN</td>\n      <td>Jonagold Äpfel werden bei uns im Ländle seit d...</td>\n    </tr>\n    <tr>\n      <td>4</td>\n      <td>Alkoholfreie Gertänke &amp; Sirup</td>\n      <td>Fruchtsaft gespritzt</td>\n      <td>SUTTERLÜTY'S APFELSAFT G'SPRITZT</td>\n      <td>Mosterei Kramml, Lustenau</td>\n      <td>Us'm Ländle</td>\n      <td>NaN</td>\n      <td>Sutterlüty’s gespritzter Apfelsaft ist ein rei...</td>\n    </tr>\n  </tbody>\n</table>\n</div>"
     },
     "metadata": {},
     "execution_count": 7
    }
   ],
   "source": [
    "product_list=pd.read_csv('Product_List.csv')\n",
    "product_list.head()"
   ]
  },
  {
   "source": [
    "## 1. Feature Extraction\n",
    "In this section I am writing  helper functions to extract features (product name, description) from this product list and modify and match them to the template."
   ],
   "cell_type": "markdown",
   "metadata": {}
  },
  {
   "cell_type": "code",
   "execution_count": 44,
   "metadata": {},
   "outputs": [],
   "source": [
    "\"\"\"\n",
    "Transformation key table:\n",
    "TEMPLATE <- PRODUCT LIST\n",
    "\n",
    "Handle <- Produktbezeichnung w/o 'SUTTERLUTY'S', umlauts\n",
    "Body <- Produkt Text\n",
    "Title <- Produktbezeichnung w/o 'SUTTERLUTY'S'\n",
    "Vendor <- Produzent\n",
    "Type <- Sortierung\n",
    "Tags <- TBD\n",
    "Published <- FALSE (while in dev stage)\n",
    "Option1 Name <- Title\n",
    "Option1 Value <- Default Title\n",
    "Other Option(s) <- TBD\n",
    "Variant Grams <- 0 / TBD\n",
    "Variant Inventory Policy <- deny\n",
    "Variant Fulfillment Service <- manual\n",
    "Variant Price <- rand() until we know prices\n",
    "\n",
    "\"\"\"\n",
    "def empty_template(template):\n",
    "    return template[0:0]\n",
    "\n",
    "def create_empty_row(template): \n",
    "    ncols=template.shape[1]\n",
    "    arr=['' for i in range(ncols)]\n",
    "    return arr\n",
    "\n",
    "def fill_row(template,product_list,k):\n",
    "    row=create_empty_row(template)\n",
    "    #print(list(template.columns))\n",
    "    for i in range(len(row)):\n",
    "        j=list(template.columns)[i]\n",
    "        if j=='Handle':\n",
    "            handle=str(product_list['Produktbezeichnung'][k])\n",
    "            handle=handle.lower()\n",
    "            handle=unidecode.unidecode(handle) #remove umlauts for url handle\n",
    "            handle=handle.replace(\"sutterluty's \",\"\") #remove sutterluty\n",
    "            handle=handle.replace(\"sutterluty’s\",\"\")\n",
    "            handle=handle.replace(\" / \",\"\")\n",
    "            handle=handle.replace(\" \",\"-\") #replace space with dash\n",
    "            row[i]=handle\n",
    "        elif j==\"Title\":\n",
    "            handle=str(product_list['Produktbezeichnung'][k])\n",
    "            handle=handle.lower()\n",
    "            handle=handle.replace(\"sutterlüty's\",\"\")\n",
    "            handle=handle.replace(\"sutterlüty’s\",\"\")\n",
    "            handle=handle.capitalize()\n",
    "            row[i]=handle\n",
    "        elif j=='Body (HTML)':\n",
    "            row[i]=product_list['Produkt Text'][k]\n",
    "        elif j=='Vendor':\n",
    "            row[i]=str(product_list['Produzent  '][k])\n",
    "        elif j=='Type':\n",
    "            row[i]=str(product_list['Sortierung'][k])\n",
    "        elif j=='Published':\n",
    "            row[i]='FALSE'\n",
    "        elif j=='Option1 Name':\n",
    "            row[i]='Title'\n",
    "        elif j=='Option1 Value':\n",
    "            row[i]='Default Title'\n",
    "        elif j=='Variant Grams':\n",
    "            row[i]=0\n",
    "        elif j=='Variant Inventory Policy':\n",
    "            row[i]=='deny'\n",
    "        elif j=='Variant Fulfillment Service':\n",
    "            row[i]='manual'\n",
    "        elif j=='Variant Price':\n",
    "            random.seed(123)\n",
    "            row[i]=random.randint(1,10)\n",
    "    #print(row)\n",
    "    return row"
   ]
  },
  {
   "cell_type": "code",
   "execution_count": 45,
   "metadata": {
    "tags": []
   },
   "outputs": [
    {
     "output_type": "execute_result",
     "data": {
      "text/plain": "                                                Handle  \\\n0                                     apfel-birnensaft   \n1                                            apfelsaft   \n2                                    apfelsaft-boskoop   \n3                                   apfelsaft-jonagold   \n4                                  apfelsaft-g'spritzt   \n..                                                 ...   \n166                               geschenkpackle-klein   \n167                              geschenkpackle-mittel   \n168                               geschenkpackle-gross   \n169  b'sundrige-auswahl-individuell-bestuckbar\\nmin...   \n170                      sutterluty-geschenkgutscheine   \n\n                                                 Title  \\\n0                                     apfel-birnensaft   \n1                                            apfelsaft   \n2                                    apfelsaft boskoop   \n3                                   apfelsaft jonagold   \n4                                  apfelsaft g'spritzt   \n..                                                 ...   \n166                               geschenkpäckle klein   \n167                              geschenkpäckle mittel   \n168                                geschenkpäckle groß   \n169   b’sundrige auswahl individuell bestückbar / \\...   \n170                      Sutterlüty geschenkgutscheine   \n\n                                           Body (HTML)  \\\n0    Die Äpfel und Birnen für dieses reine Naturpro...   \n1    Der naturtrübe Apfelsaft von der Mosterei Kram...   \n2    Der Boskoop Apfel – bei uns im Ländle auch Led...   \n3    Jonagold Äpfel werden bei uns im Ländle seit d...   \n4    Sutterlüty’s gespritzter Apfelsaft ist ein rei...   \n..                                                 ...   \n166  Sutterlüty’s Bergkäse würzig 8 Monate gereift ...   \n167  Sutterlüty’s Bergkäse würzig 8 Monate gereift ...   \n168  Sutterlüty’s Bio Salami 200 g, Sutterlüty’s Be...   \n169  So individuell wie Ihre Mitarbeiter, Kunden un...   \n170  Schenken so viel Sie wollen: Die praktischen S...   \n\n                        Vendor                  Type Tags Published  \\\n0    Mosterei Kramml, Lustenau            Fruchtsaft          FALSE   \n1    Mosterei Kramml, Lustenau            Fruchtsaft          FALSE   \n2    Mosterei Kramml, Lustenau            Fruchtsaft          FALSE   \n3    Mosterei Kramml, Lustenau            Fruchtsaft          FALSE   \n4    Mosterei Kramml, Lustenau  Fruchtsaft gespritzt          FALSE   \n..                         ...                   ...  ...       ...   \n166                        nan        Geschenkpäckle          FALSE   \n167                        nan        Geschenkpäckle          FALSE   \n168                        nan        Geschenkpäckle          FALSE   \n169                        nan        Geschenkpäckle          FALSE   \n170                        nan        Gutscheinkarte          FALSE   \n\n    Option1 Name  Option1 Value Option2 Name  ...  \\\n0          Title  Default Title               ...   \n1          Title  Default Title               ...   \n2          Title  Default Title               ...   \n3          Title  Default Title               ...   \n4          Title  Default Title               ...   \n..           ...            ...          ...  ...   \n166        Title  Default Title               ...   \n167        Title  Default Title               ...   \n168        Title  Default Title               ...   \n169        Title  Default Title               ...   \n170        Title  Default Title               ...   \n\n    Google Shopping / Custom Product Google Shopping / Custom Label 0  \\\n0                                                                       \n1                                                                       \n2                                                                       \n3                                                                       \n4                                                                       \n..                               ...                              ...   \n166                                                                     \n167                                                                     \n168                                                                     \n169                                                                     \n170                                                                     \n\n    Google Shopping / Custom Label 1 Google Shopping / Custom Label 2  \\\n0                                                                       \n1                                                                       \n2                                                                       \n3                                                                       \n4                                                                       \n..                               ...                              ...   \n166                                                                     \n167                                                                     \n168                                                                     \n169                                                                     \n170                                                                     \n\n    Google Shopping / Custom Label 3 Google Shopping / Custom Label 4  \\\n0                                                                       \n1                                                                       \n2                                                                       \n3                                                                       \n4                                                                       \n..                               ...                              ...   \n166                                                                     \n167                                                                     \n168                                                                     \n169                                                                     \n170                                                                     \n\n    Variant Image Variant Weight Unit Variant Tax Code Cost per item  \n0                                                                     \n1                                                                     \n2                                                                     \n3                                                                     \n4                                                                     \n..            ...                 ...              ...           ...  \n166                                                                   \n167                                                                   \n168                                                                   \n169                                                                   \n170                                                                   \n\n[171 rows x 47 columns]",
      "text/html": "<div>\n<style scoped>\n    .dataframe tbody tr th:only-of-type {\n        vertical-align: middle;\n    }\n\n    .dataframe tbody tr th {\n        vertical-align: top;\n    }\n\n    .dataframe thead th {\n        text-align: right;\n    }\n</style>\n<table border=\"1\" class=\"dataframe\">\n  <thead>\n    <tr style=\"text-align: right;\">\n      <th></th>\n      <th>Handle</th>\n      <th>Title</th>\n      <th>Body (HTML)</th>\n      <th>Vendor</th>\n      <th>Type</th>\n      <th>Tags</th>\n      <th>Published</th>\n      <th>Option1 Name</th>\n      <th>Option1 Value</th>\n      <th>Option2 Name</th>\n      <th>...</th>\n      <th>Google Shopping / Custom Product</th>\n      <th>Google Shopping / Custom Label 0</th>\n      <th>Google Shopping / Custom Label 1</th>\n      <th>Google Shopping / Custom Label 2</th>\n      <th>Google Shopping / Custom Label 3</th>\n      <th>Google Shopping / Custom Label 4</th>\n      <th>Variant Image</th>\n      <th>Variant Weight Unit</th>\n      <th>Variant Tax Code</th>\n      <th>Cost per item</th>\n    </tr>\n  </thead>\n  <tbody>\n    <tr>\n      <td>0</td>\n      <td>apfel-birnensaft</td>\n      <td>apfel-birnensaft</td>\n      <td>Die Äpfel und Birnen für dieses reine Naturpro...</td>\n      <td>Mosterei Kramml, Lustenau</td>\n      <td>Fruchtsaft</td>\n      <td></td>\n      <td>FALSE</td>\n      <td>Title</td>\n      <td>Default Title</td>\n      <td></td>\n      <td>...</td>\n      <td></td>\n      <td></td>\n      <td></td>\n      <td></td>\n      <td></td>\n      <td></td>\n      <td></td>\n      <td></td>\n      <td></td>\n      <td></td>\n    </tr>\n    <tr>\n      <td>1</td>\n      <td>apfelsaft</td>\n      <td>apfelsaft</td>\n      <td>Der naturtrübe Apfelsaft von der Mosterei Kram...</td>\n      <td>Mosterei Kramml, Lustenau</td>\n      <td>Fruchtsaft</td>\n      <td></td>\n      <td>FALSE</td>\n      <td>Title</td>\n      <td>Default Title</td>\n      <td></td>\n      <td>...</td>\n      <td></td>\n      <td></td>\n      <td></td>\n      <td></td>\n      <td></td>\n      <td></td>\n      <td></td>\n      <td></td>\n      <td></td>\n      <td></td>\n    </tr>\n    <tr>\n      <td>2</td>\n      <td>apfelsaft-boskoop</td>\n      <td>apfelsaft boskoop</td>\n      <td>Der Boskoop Apfel – bei uns im Ländle auch Led...</td>\n      <td>Mosterei Kramml, Lustenau</td>\n      <td>Fruchtsaft</td>\n      <td></td>\n      <td>FALSE</td>\n      <td>Title</td>\n      <td>Default Title</td>\n      <td></td>\n      <td>...</td>\n      <td></td>\n      <td></td>\n      <td></td>\n      <td></td>\n      <td></td>\n      <td></td>\n      <td></td>\n      <td></td>\n      <td></td>\n      <td></td>\n    </tr>\n    <tr>\n      <td>3</td>\n      <td>apfelsaft-jonagold</td>\n      <td>apfelsaft jonagold</td>\n      <td>Jonagold Äpfel werden bei uns im Ländle seit d...</td>\n      <td>Mosterei Kramml, Lustenau</td>\n      <td>Fruchtsaft</td>\n      <td></td>\n      <td>FALSE</td>\n      <td>Title</td>\n      <td>Default Title</td>\n      <td></td>\n      <td>...</td>\n      <td></td>\n      <td></td>\n      <td></td>\n      <td></td>\n      <td></td>\n      <td></td>\n      <td></td>\n      <td></td>\n      <td></td>\n      <td></td>\n    </tr>\n    <tr>\n      <td>4</td>\n      <td>apfelsaft-g'spritzt</td>\n      <td>apfelsaft g'spritzt</td>\n      <td>Sutterlüty’s gespritzter Apfelsaft ist ein rei...</td>\n      <td>Mosterei Kramml, Lustenau</td>\n      <td>Fruchtsaft gespritzt</td>\n      <td></td>\n      <td>FALSE</td>\n      <td>Title</td>\n      <td>Default Title</td>\n      <td></td>\n      <td>...</td>\n      <td></td>\n      <td></td>\n      <td></td>\n      <td></td>\n      <td></td>\n      <td></td>\n      <td></td>\n      <td></td>\n      <td></td>\n      <td></td>\n    </tr>\n    <tr>\n      <td>...</td>\n      <td>...</td>\n      <td>...</td>\n      <td>...</td>\n      <td>...</td>\n      <td>...</td>\n      <td>...</td>\n      <td>...</td>\n      <td>...</td>\n      <td>...</td>\n      <td>...</td>\n      <td>...</td>\n      <td>...</td>\n      <td>...</td>\n      <td>...</td>\n      <td>...</td>\n      <td>...</td>\n      <td>...</td>\n      <td>...</td>\n      <td>...</td>\n      <td>...</td>\n      <td>...</td>\n    </tr>\n    <tr>\n      <td>166</td>\n      <td>geschenkpackle-klein</td>\n      <td>geschenkpäckle klein</td>\n      <td>Sutterlüty’s Bergkäse würzig 8 Monate gereift ...</td>\n      <td>nan</td>\n      <td>Geschenkpäckle</td>\n      <td></td>\n      <td>FALSE</td>\n      <td>Title</td>\n      <td>Default Title</td>\n      <td></td>\n      <td>...</td>\n      <td></td>\n      <td></td>\n      <td></td>\n      <td></td>\n      <td></td>\n      <td></td>\n      <td></td>\n      <td></td>\n      <td></td>\n      <td></td>\n    </tr>\n    <tr>\n      <td>167</td>\n      <td>geschenkpackle-mittel</td>\n      <td>geschenkpäckle mittel</td>\n      <td>Sutterlüty’s Bergkäse würzig 8 Monate gereift ...</td>\n      <td>nan</td>\n      <td>Geschenkpäckle</td>\n      <td></td>\n      <td>FALSE</td>\n      <td>Title</td>\n      <td>Default Title</td>\n      <td></td>\n      <td>...</td>\n      <td></td>\n      <td></td>\n      <td></td>\n      <td></td>\n      <td></td>\n      <td></td>\n      <td></td>\n      <td></td>\n      <td></td>\n      <td></td>\n    </tr>\n    <tr>\n      <td>168</td>\n      <td>geschenkpackle-gross</td>\n      <td>geschenkpäckle groß</td>\n      <td>Sutterlüty’s Bio Salami 200 g, Sutterlüty’s Be...</td>\n      <td>nan</td>\n      <td>Geschenkpäckle</td>\n      <td></td>\n      <td>FALSE</td>\n      <td>Title</td>\n      <td>Default Title</td>\n      <td></td>\n      <td>...</td>\n      <td></td>\n      <td></td>\n      <td></td>\n      <td></td>\n      <td></td>\n      <td></td>\n      <td></td>\n      <td></td>\n      <td></td>\n      <td></td>\n    </tr>\n    <tr>\n      <td>169</td>\n      <td>b'sundrige-auswahl-individuell-bestuckbar\\nmin...</td>\n      <td>b’sundrige auswahl individuell bestückbar / \\...</td>\n      <td>So individuell wie Ihre Mitarbeiter, Kunden un...</td>\n      <td>nan</td>\n      <td>Geschenkpäckle</td>\n      <td></td>\n      <td>FALSE</td>\n      <td>Title</td>\n      <td>Default Title</td>\n      <td></td>\n      <td>...</td>\n      <td></td>\n      <td></td>\n      <td></td>\n      <td></td>\n      <td></td>\n      <td></td>\n      <td></td>\n      <td></td>\n      <td></td>\n      <td></td>\n    </tr>\n    <tr>\n      <td>170</td>\n      <td>sutterluty-geschenkgutscheine</td>\n      <td>Sutterlüty geschenkgutscheine</td>\n      <td>Schenken so viel Sie wollen: Die praktischen S...</td>\n      <td>nan</td>\n      <td>Gutscheinkarte</td>\n      <td></td>\n      <td>FALSE</td>\n      <td>Title</td>\n      <td>Default Title</td>\n      <td></td>\n      <td>...</td>\n      <td></td>\n      <td></td>\n      <td></td>\n      <td></td>\n      <td></td>\n      <td></td>\n      <td></td>\n      <td></td>\n      <td></td>\n      <td></td>\n    </tr>\n  </tbody>\n</table>\n<p>171 rows × 47 columns</p>\n</div>"
     },
     "metadata": {},
     "execution_count": 45
    }
   ],
   "source": [
    "shopify_product_list=empty_template(template) #create empty template\n",
    "#print(shopify_product_list.shape)\n",
    "count=0\n",
    "for i in range(product_list.shape[0]): #fill in template row by row\n",
    "    if type(product_list.iloc[i,0]) is str:\n",
    "        row=np.array(fill_row(template,product_list,i))\n",
    "        shopify_product_list.loc[count]=row\n",
    "        count+=1\n",
    "    else:\n",
    "        continue #skip if NaN\n",
    "shopify_product_list"
   ]
  },
  {
   "cell_type": "code",
   "execution_count": 46,
   "metadata": {},
   "outputs": [],
   "source": [
    "shopify_product_list.to_csv('shopify_product_list.csv', header=list(shopify_product_list.columns))"
   ]
  },
  {
   "cell_type": "code",
   "execution_count": 13,
   "metadata": {},
   "outputs": [
    {
     "output_type": "execute_result",
     "data": {
      "text/plain": "\"sutterluty's geschenkpackle gross\""
     },
     "metadata": {},
     "execution_count": 13
    }
   ],
   "source": [
    "unidecode.unidecode(\"sutterlüty’s geschenkpäckle groß\")"
   ]
  },
  {
   "cell_type": "code",
   "execution_count": 17,
   "metadata": {},
   "outputs": [
    {
     "output_type": "execute_result",
     "data": {
      "text/plain": "'geschenkpackle gross'"
     },
     "metadata": {},
     "execution_count": 17
    }
   ],
   "source": [
    "a=unidecode.unidecode(\"sutterlüty’s geschenkpäckle groß\")\n",
    "a=a.replace(\"sutterluty's \", \"\")\n",
    "a"
   ]
  },
  {
   "cell_type": "code",
   "execution_count": 37,
   "metadata": {},
   "outputs": [
    {
     "output_type": "execute_result",
     "data": {
      "text/plain": "'Apfel-birnensaft'"
     },
     "metadata": {},
     "execution_count": 37
    }
   ],
   "source": [
    "a=\"apfel-birnensaft\"\n",
    "a.capitalize()"
   ]
  }
 ]
}