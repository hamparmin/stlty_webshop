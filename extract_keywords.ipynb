{
 "metadata": {
  "language_info": {
   "codemirror_mode": {
    "name": "ipython",
    "version": 3
   },
   "file_extension": ".py",
   "mimetype": "text/x-python",
   "name": "python",
   "nbconvert_exporter": "python",
   "pygments_lexer": "ipython3",
   "version": "3.7.4-final"
  },
  "orig_nbformat": 2,
  "kernelspec": {
   "name": "Python 3.7.4 64-bit ('base': conda)",
   "display_name": "Python 3.7.4 64-bit ('base': conda)",
   "metadata": {
    "interpreter": {
     "hash": "ccf5f43cb2624e4adf3e8be39f4dcad3aa8684e7dbc7726ef326286522509c20"
    }
   }
  }
 },
 "nbformat": 4,
 "nbformat_minor": 2,
 "cells": [
  {
   "cell_type": "code",
   "execution_count": 26,
   "metadata": {},
   "outputs": [],
   "source": [
    "import numpy as np\n",
    "import pandas as pd\n",
    "from googletrans import Translator\n",
    "import nltk\n",
    "from collections import Counter "
   ]
  },
  {
   "cell_type": "code",
   "execution_count": 9,
   "metadata": {},
   "outputs": [
    {
     "output_type": "execute_result",
     "data": {
      "text/plain": "   Unnamed: 0              Handle                 Title  \\\n0           0    apfel-birnensaft      apfel-birnensaft   \n1           1           apfelsaft             apfelsaft   \n2           2   apfelsaft-boskoop     apfelsaft boskoop   \n3           3  apfelsaft-jonagold    apfelsaft jonagold   \n4           4  apfelsaft-gspritzt   apfelsaft g'spritzt   \n\n                                         Body (HTML)  \\\n0  Die Äpfel und Birnen für dieses reine Naturpro...   \n1  Der naturtrübe Apfelsaft von der Mosterei Kram...   \n2  Der Boskoop Apfel – bei uns im Ländle auch Led...   \n3  Jonagold Äpfel werden bei uns im Ländle seit d...   \n4  Sutterlüty’s gespritzter Apfelsaft ist ein rei...   \n\n                      Vendor                  Type  Tags  Published  \\\n0  Mosterei Kramml, Lustenau            Fruchtsaft   NaN       True   \n1  Mosterei Kramml, Lustenau            Fruchtsaft   NaN       True   \n2  Mosterei Kramml, Lustenau            Fruchtsaft   NaN       True   \n3  Mosterei Kramml, Lustenau            Fruchtsaft   NaN       True   \n4  Mosterei Kramml, Lustenau  Fruchtsaft gespritzt   NaN       True   \n\n  Option1 Name  Option1 Value  ...  Google Shopping / Custom Product  \\\n0        Title  Default Title  ...                               NaN   \n1        Title  Default Title  ...                               NaN   \n2        Title  Default Title  ...                               NaN   \n3        Title  Default Title  ...                               NaN   \n4        Title  Default Title  ...                               NaN   \n\n   Google Shopping / Custom Label 0  Google Shopping / Custom Label 1  \\\n0                               NaN                               NaN   \n1                               NaN                               NaN   \n2                               NaN                               NaN   \n3                               NaN                               NaN   \n4                               NaN                               NaN   \n\n   Google Shopping / Custom Label 2  Google Shopping / Custom Label 3  \\\n0                               NaN                               NaN   \n1                               NaN                               NaN   \n2                               NaN                               NaN   \n3                               NaN                               NaN   \n4                               NaN                               NaN   \n\n   Google Shopping / Custom Label 4  Variant Image  Variant Weight Unit  \\\n0                               NaN            NaN                  NaN   \n1                               NaN            NaN                  NaN   \n2                               NaN            NaN                  NaN   \n3                               NaN            NaN                  NaN   \n4                               NaN            NaN                  NaN   \n\n  Variant Tax Code Cost per item  \n0              NaN           NaN  \n1              NaN           NaN  \n2              NaN           NaN  \n3              NaN           NaN  \n4              NaN           NaN  \n\n[5 rows x 48 columns]",
      "text/html": "<div>\n<style scoped>\n    .dataframe tbody tr th:only-of-type {\n        vertical-align: middle;\n    }\n\n    .dataframe tbody tr th {\n        vertical-align: top;\n    }\n\n    .dataframe thead th {\n        text-align: right;\n    }\n</style>\n<table border=\"1\" class=\"dataframe\">\n  <thead>\n    <tr style=\"text-align: right;\">\n      <th></th>\n      <th>Unnamed: 0</th>\n      <th>Handle</th>\n      <th>Title</th>\n      <th>Body (HTML)</th>\n      <th>Vendor</th>\n      <th>Type</th>\n      <th>Tags</th>\n      <th>Published</th>\n      <th>Option1 Name</th>\n      <th>Option1 Value</th>\n      <th>...</th>\n      <th>Google Shopping / Custom Product</th>\n      <th>Google Shopping / Custom Label 0</th>\n      <th>Google Shopping / Custom Label 1</th>\n      <th>Google Shopping / Custom Label 2</th>\n      <th>Google Shopping / Custom Label 3</th>\n      <th>Google Shopping / Custom Label 4</th>\n      <th>Variant Image</th>\n      <th>Variant Weight Unit</th>\n      <th>Variant Tax Code</th>\n      <th>Cost per item</th>\n    </tr>\n  </thead>\n  <tbody>\n    <tr>\n      <td>0</td>\n      <td>0</td>\n      <td>apfel-birnensaft</td>\n      <td>apfel-birnensaft</td>\n      <td>Die Äpfel und Birnen für dieses reine Naturpro...</td>\n      <td>Mosterei Kramml, Lustenau</td>\n      <td>Fruchtsaft</td>\n      <td>NaN</td>\n      <td>True</td>\n      <td>Title</td>\n      <td>Default Title</td>\n      <td>...</td>\n      <td>NaN</td>\n      <td>NaN</td>\n      <td>NaN</td>\n      <td>NaN</td>\n      <td>NaN</td>\n      <td>NaN</td>\n      <td>NaN</td>\n      <td>NaN</td>\n      <td>NaN</td>\n      <td>NaN</td>\n    </tr>\n    <tr>\n      <td>1</td>\n      <td>1</td>\n      <td>apfelsaft</td>\n      <td>apfelsaft</td>\n      <td>Der naturtrübe Apfelsaft von der Mosterei Kram...</td>\n      <td>Mosterei Kramml, Lustenau</td>\n      <td>Fruchtsaft</td>\n      <td>NaN</td>\n      <td>True</td>\n      <td>Title</td>\n      <td>Default Title</td>\n      <td>...</td>\n      <td>NaN</td>\n      <td>NaN</td>\n      <td>NaN</td>\n      <td>NaN</td>\n      <td>NaN</td>\n      <td>NaN</td>\n      <td>NaN</td>\n      <td>NaN</td>\n      <td>NaN</td>\n      <td>NaN</td>\n    </tr>\n    <tr>\n      <td>2</td>\n      <td>2</td>\n      <td>apfelsaft-boskoop</td>\n      <td>apfelsaft boskoop</td>\n      <td>Der Boskoop Apfel – bei uns im Ländle auch Led...</td>\n      <td>Mosterei Kramml, Lustenau</td>\n      <td>Fruchtsaft</td>\n      <td>NaN</td>\n      <td>True</td>\n      <td>Title</td>\n      <td>Default Title</td>\n      <td>...</td>\n      <td>NaN</td>\n      <td>NaN</td>\n      <td>NaN</td>\n      <td>NaN</td>\n      <td>NaN</td>\n      <td>NaN</td>\n      <td>NaN</td>\n      <td>NaN</td>\n      <td>NaN</td>\n      <td>NaN</td>\n    </tr>\n    <tr>\n      <td>3</td>\n      <td>3</td>\n      <td>apfelsaft-jonagold</td>\n      <td>apfelsaft jonagold</td>\n      <td>Jonagold Äpfel werden bei uns im Ländle seit d...</td>\n      <td>Mosterei Kramml, Lustenau</td>\n      <td>Fruchtsaft</td>\n      <td>NaN</td>\n      <td>True</td>\n      <td>Title</td>\n      <td>Default Title</td>\n      <td>...</td>\n      <td>NaN</td>\n      <td>NaN</td>\n      <td>NaN</td>\n      <td>NaN</td>\n      <td>NaN</td>\n      <td>NaN</td>\n      <td>NaN</td>\n      <td>NaN</td>\n      <td>NaN</td>\n      <td>NaN</td>\n    </tr>\n    <tr>\n      <td>4</td>\n      <td>4</td>\n      <td>apfelsaft-gspritzt</td>\n      <td>apfelsaft g'spritzt</td>\n      <td>Sutterlüty’s gespritzter Apfelsaft ist ein rei...</td>\n      <td>Mosterei Kramml, Lustenau</td>\n      <td>Fruchtsaft gespritzt</td>\n      <td>NaN</td>\n      <td>True</td>\n      <td>Title</td>\n      <td>Default Title</td>\n      <td>...</td>\n      <td>NaN</td>\n      <td>NaN</td>\n      <td>NaN</td>\n      <td>NaN</td>\n      <td>NaN</td>\n      <td>NaN</td>\n      <td>NaN</td>\n      <td>NaN</td>\n      <td>NaN</td>\n      <td>NaN</td>\n    </tr>\n  </tbody>\n</table>\n<p>5 rows × 48 columns</p>\n</div>"
     },
     "metadata": {},
     "execution_count": 9
    }
   ],
   "source": [
    "df=pd.read_csv(\"shopify_product_list.csv\")\n",
    "df.head()"
   ]
  },
  {
   "cell_type": "code",
   "execution_count": 20,
   "metadata": {},
   "outputs": [],
   "source": [
    "translator = Translator()\n",
    "product_names=[]\n",
    "product_descriptions=[]\n",
    "for i in range(df.shape[0]):\n",
    "    trans=translator.translate(df.iloc[i,2])\n",
    "    product_names.append(trans.text)\n",
    "\n",
    "    # trans=translator.translate(df.iloc[i,3])\n",
    "    # product_descriptions.append(trans)"
   ]
  },
  {
   "cell_type": "code",
   "execution_count": 22,
   "metadata": {},
   "outputs": [
    {
     "output_type": "execute_result",
     "data": {
      "text/plain": "['apple-pear juice',\n 'Apple juice',\n 'apfelsaft boskoop',\n 'apfelsaft jonagold',\n \"apfelsaft G'spritzt\",\n \"elderberry juice G'spritzt\",\n \"currant juice G'spritzt\",\n 'apple secco',\n 'elderflower lemonade',\n 'apple sweet most',\n 'black currant nectar',\n 'holderbeeren syrup',\n 'holderblüten syrup',\n 'black currant syrup',\n 'apple-semi-sparkling wine',\n 'bodensee fruit brandy',\n 'rural williams brand',\n 'Original subirer',\n 'honey williams',\n 'williamsbrand',\n 'apfelcider',\n 'apple most ferments',\n 'hot cider',\n 'bio wild garlic cream',\n 'basil pesto',\n 'Wild garlic pesto',\n 'apple-pear-chili chutney',\n 'zwetschgen-curry chutney',\n 'pickles',\n 'gherkins',\n 'cucumber-pepper-töpfle',\n 'carrot salad',\n 'paprikatöpfle',\n 'striped Salat',\n 'Celery salad',\n 'senfgurken',\n 'bio hennele',\n 'Organic net hennele',\n 'bio hennele club',\n 'bio hennele flügerl',\n 'wälderhennele filet',\n 'wälderhennele wing',\n 'wälderhennele marinated wings',\n 'wälderhennele all',\n 'wälderhennele club',\n 'bio turkey cutlets',\n 'bio turkey sliced',\n 'bio bitch flügerl',\n 'was the way of keule',\n 'kalbsgulasch',\n 'kalbsgulasch',\n 'Veal steak',\n 'veal cutlet',\n 'rural calf cutlet',\n 'lammragout',\n 'rack of lamb steak',\n 'lamb cutlets',\n 'lamb front quarter',\n 'was rind ragout',\n 'bio rind rib-eye-steak',\n 'organic beef cutlet',\n 'rump steak',\n 'rack of pork steak',\n 'pork ragout',\n 'pork cutlet',\n 'mountain lamb beisser',\n 'bio alpwurzen',\n 'was kaminwurzen',\n 'bio Landjäger',\n 'was salami',\n 'rural poultry kaiser',\n 'Rheintaler Riebel',\n 'Alpine cheese',\n 'ursalzkäse',\n 'mountain cheese mild 3 months',\n 'mountain cheese mild 3 months',\n 'mountain cheese mild 3 months',\n 'mountain cheese gore mild 3 months',\n 'mountain cheese gore mild 3 months',\n 'mountain cheese gore mild 3 months',\n 'mountain cheese spicy 6 months',\n 'mountain cheese spicy 6 months',\n 'mountain cheese spicy 6 months',\n 'mountain cheese gore spicy 6 months',\n 'mountain cheese gore spicy 6 months',\n 'mountain cheese gore spicy 6 months',\n 'mountain cheese spicy 8 months',\n 'mountain cheese spicy 8 months',\n 'mountain cheese spicy 8 months',\n 'mountain cheese spicy 12 months',\n 'mountain cheese spicy 12 months',\n 'mountain cheese spicy 12 months',\n 'emmentaler',\n 'heumilchkäse chili peppers',\n 'heumilchkäse alpenkräuter',\n 'Heumilchkäse blütenzauber',\n 'Heumilchkäse tomato-basil',\n 'cut cheese',\n 'alpzieger',\n 'bregenzerwald forests rässkäse',\n 'bio heumilch camembert',\n 'vorarlberger goat cheese',\n 'forests noble goat red',\n 'forests noble goat camembert',\n 'ziegenkäsle nature',\n 'ziegenkäsle with herbs in oil',\n 'ziegenkäsle with chili in oil',\n 'ziegenkäsle with peanut',\n 'goat cheese mountain',\n 'mild sheep cheese inserted',\n 'spicy sheep cheese inserted',\n 'bregenzerwälder schafkäsle',\n 'rural holdermus',\n 'plum compote',\n 'mirabellenkompott',\n 'applesauce',\n 'Apple jelly',\n 'black currant jelly',\n 'cremehonig',\n 'Waldhonig (bregenzerwald)',\n 'waldhonig (walgau)',\n 'bio tannenwipfele cream',\n 'fir wipfele syrup',\n 'blackberry usufruct',\n 'blackberry-blueberry usufruct',\n 'strawberry usufruct',\n 'blueberry usufruct',\n 'strawberry-raspberry fruit pleasure',\n 'raspberry usufruct',\n 'raspberry-strawberry-blueberry usufruct',\n 'currant usufruct',\n 'Kornelkirschen usufruct',\n 'plum usufruct',\n 'alpbutter',\n 'bregenzerwald forests senn butter',\n \"sheep's milk yogurt blackberry\",\n \"sheep's milk yogurt strawberry\",\n \"sheep's milk yogurt raspberry\",\n 'schafmilchjoghurt marille',\n \"sheep's milk yogurt natural\",\n \"sheep's milk yogurt hazelnut\",\n \"sheep's milk yogurt muesli\",\n 'alpzieger',\n 'rural greens',\n 'kräutertöpfle',\n 'frachner kriasi',\n 'blueberries',\n 'dried apples baya marisa',\n 'dried gala apples',\n 'dried apples jonagold',\n 'pear dried williams',\n 'apple-pear vinegar',\n 'Apple Cider Vinegar',\n 'apple-pear vinegar with raspberries',\n 'herbal vinegar',\n 'kalbsbrätknödel',\n 'calf fries spätzle',\n 'liver dumpling',\n 'liver spaetzle',\n 'Enjoying ice-cream hot love',\n 'eisgenuss heumilch alpencaramel',\n 'Enjoying ice-cream hay milk-chocolate-nut',\n 'eisgenuss heumilch-stracciatella',\n 'Enjoying ice-cream yogurt-waldbeere',\n 'Enjoying ice-cream natural yoghurt-cherry',\n 'eisgenuss vanilla',\n 'geschenkpäckle small',\n 'geschenkpäckle medium',\n 'geschenkpäckle large',\n \"b'sundrige selection individual configuration\\nminimum order quantity 20 gifts\",\n 'Sutterlüty gift vouchers']"
     },
     "metadata": {},
     "execution_count": 22
    }
   ],
   "source": [
    "product_names"
   ]
  },
  {
   "cell_type": "code",
   "execution_count": 27,
   "metadata": {},
   "outputs": [
    {
     "output_type": "error",
     "ename": "KeyboardInterrupt",
     "evalue": "",
     "traceback": [
      "\u001b[1;31m---------------------------------------------------------------------------\u001b[0m",
      "\u001b[1;31mKeyboardInterrupt\u001b[0m                         Traceback (most recent call last)",
      "\u001b[1;32m<ipython-input-27-6649c0c33aeb>\u001b[0m in \u001b[0;36m<module>\u001b[1;34m\u001b[0m\n\u001b[0;32m      3\u001b[0m     \u001b[0mtokens\u001b[0m\u001b[1;33m=\u001b[0m\u001b[0mnltk\u001b[0m\u001b[1;33m.\u001b[0m\u001b[0mword_tokenize\u001b[0m\u001b[1;33m(\u001b[0m\u001b[0mstring\u001b[0m\u001b[1;33m)\u001b[0m\u001b[1;33m\u001b[0m\u001b[1;33m\u001b[0m\u001b[0m\n\u001b[0;32m      4\u001b[0m     \u001b[1;32mfor\u001b[0m \u001b[0mi\u001b[0m \u001b[1;32min\u001b[0m \u001b[0mtokens\u001b[0m\u001b[1;33m:\u001b[0m\u001b[1;33m\u001b[0m\u001b[1;33m\u001b[0m\u001b[0m\n\u001b[1;32m----> 5\u001b[1;33m         \u001b[0mtokens\u001b[0m\u001b[1;33m.\u001b[0m\u001b[0mappend\u001b[0m\u001b[1;33m(\u001b[0m\u001b[0mi\u001b[0m\u001b[1;33m)\u001b[0m\u001b[1;33m\u001b[0m\u001b[1;33m\u001b[0m\u001b[0m\n\u001b[0m\u001b[0;32m      6\u001b[0m \u001b[0mfreq_map\u001b[0m\u001b[1;33m=\u001b[0m\u001b[1;33m{\u001b[0m\u001b[1;33m}\u001b[0m\u001b[1;33m\u001b[0m\u001b[1;33m\u001b[0m\u001b[0m\n\u001b[0;32m      7\u001b[0m \u001b[1;32mfor\u001b[0m \u001b[0mtoken\u001b[0m \u001b[1;32min\u001b[0m \u001b[0mtoken_list\u001b[0m\u001b[1;33m:\u001b[0m\u001b[1;33m\u001b[0m\u001b[1;33m\u001b[0m\u001b[0m\n",
      "\u001b[1;31mKeyboardInterrupt\u001b[0m: "
     ]
    }
   ],
   "source": [
    "token_list=[]\n",
    "for string in product_names:\n",
    "    tokens=nltk.word_tokenize(string)\n",
    "    for i in tokens:\n",
    "        token_list.append(i)\n",
    "freq_map={}\n",
    "for token in token_list:\n",
    "    freq_map[token]=freq_map.get(token,0)+1\n"
   ]
  },
  {
   "cell_type": "code",
   "execution_count": null,
   "metadata": {},
   "outputs": [],
   "source": [
    "#find 20 most common keywords\n",
    "k = Counter(my_dict) \n",
    "high = k.most_common(20) "
   ]
  },
  {
   "cell_type": "code",
   "execution_count": null,
   "metadata": {},
   "outputs": [],
   "source": []
  }
 ]
}