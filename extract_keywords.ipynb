{
 "metadata": {
  "language_info": {
   "codemirror_mode": {
    "name": "ipython",
    "version": 3
   },
   "file_extension": ".py",
   "mimetype": "text/x-python",
   "name": "python",
   "nbconvert_exporter": "python",
   "pygments_lexer": "ipython3",
   "version": "3.7.4-final"
  },
  "orig_nbformat": 2,
  "kernelspec": {
   "name": "Python 3.7.4 64-bit ('base': conda)",
   "display_name": "Python 3.7.4 64-bit ('base': conda)",
   "metadata": {
    "interpreter": {
     "hash": "ccf5f43cb2624e4adf3e8be39f4dcad3aa8684e7dbc7726ef326286522509c20"
    }
   }
  }
 },
 "nbformat": 4,
 "nbformat_minor": 2,
 "cells": [
  {
   "cell_type": "code",
   "execution_count": 1,
   "metadata": {},
   "outputs": [],
   "source": [
    "import numpy as np\n",
    "import pandas as pd\n",
    "from googletrans import Translator\n",
    "import nltk\n",
    "from collections import Counter "
   ]
  },
  {
   "cell_type": "code",
   "execution_count": 2,
   "metadata": {},
   "outputs": [
    {
     "output_type": "execute_result",
     "data": {
      "text/plain": "   Unnamed: 0              Handle                 Title  \\\n0           0    apfel-birnensaft      apfel-birnensaft   \n1           1           apfelsaft             apfelsaft   \n2           2   apfelsaft-boskoop     apfelsaft boskoop   \n3           3  apfelsaft-jonagold    apfelsaft jonagold   \n4           4  apfelsaft-gspritzt   apfelsaft g'spritzt   \n\n                                         Body (HTML)  \\\n0  Die Äpfel und Birnen für dieses reine Naturpro...   \n1  Der naturtrübe Apfelsaft von der Mosterei Kram...   \n2  Der Boskoop Apfel – bei uns im Ländle auch Led...   \n3  Jonagold Äpfel werden bei uns im Ländle seit d...   \n4  Sutterlüty’s gespritzter Apfelsaft ist ein rei...   \n\n                      Vendor                  Type  Tags  Published  \\\n0  Mosterei Kramml, Lustenau            Fruchtsaft   NaN       True   \n1  Mosterei Kramml, Lustenau            Fruchtsaft   NaN       True   \n2  Mosterei Kramml, Lustenau            Fruchtsaft   NaN       True   \n3  Mosterei Kramml, Lustenau            Fruchtsaft   NaN       True   \n4  Mosterei Kramml, Lustenau  Fruchtsaft gespritzt   NaN       True   \n\n  Option1 Name  Option1 Value  ...  Google Shopping / Custom Product  \\\n0        Title  Default Title  ...                               NaN   \n1        Title  Default Title  ...                               NaN   \n2        Title  Default Title  ...                               NaN   \n3        Title  Default Title  ...                               NaN   \n4        Title  Default Title  ...                               NaN   \n\n   Google Shopping / Custom Label 0  Google Shopping / Custom Label 1  \\\n0                               NaN                               NaN   \n1                               NaN                               NaN   \n2                               NaN                               NaN   \n3                               NaN                               NaN   \n4                               NaN                               NaN   \n\n   Google Shopping / Custom Label 2  Google Shopping / Custom Label 3  \\\n0                               NaN                               NaN   \n1                               NaN                               NaN   \n2                               NaN                               NaN   \n3                               NaN                               NaN   \n4                               NaN                               NaN   \n\n   Google Shopping / Custom Label 4  Variant Image  Variant Weight Unit  \\\n0                               NaN            NaN                  NaN   \n1                               NaN            NaN                  NaN   \n2                               NaN            NaN                  NaN   \n3                               NaN            NaN                  NaN   \n4                               NaN            NaN                  NaN   \n\n  Variant Tax Code Cost per item  \n0              NaN           NaN  \n1              NaN           NaN  \n2              NaN           NaN  \n3              NaN           NaN  \n4              NaN           NaN  \n\n[5 rows x 48 columns]",
      "text/html": "<div>\n<style scoped>\n    .dataframe tbody tr th:only-of-type {\n        vertical-align: middle;\n    }\n\n    .dataframe tbody tr th {\n        vertical-align: top;\n    }\n\n    .dataframe thead th {\n        text-align: right;\n    }\n</style>\n<table border=\"1\" class=\"dataframe\">\n  <thead>\n    <tr style=\"text-align: right;\">\n      <th></th>\n      <th>Unnamed: 0</th>\n      <th>Handle</th>\n      <th>Title</th>\n      <th>Body (HTML)</th>\n      <th>Vendor</th>\n      <th>Type</th>\n      <th>Tags</th>\n      <th>Published</th>\n      <th>Option1 Name</th>\n      <th>Option1 Value</th>\n      <th>...</th>\n      <th>Google Shopping / Custom Product</th>\n      <th>Google Shopping / Custom Label 0</th>\n      <th>Google Shopping / Custom Label 1</th>\n      <th>Google Shopping / Custom Label 2</th>\n      <th>Google Shopping / Custom Label 3</th>\n      <th>Google Shopping / Custom Label 4</th>\n      <th>Variant Image</th>\n      <th>Variant Weight Unit</th>\n      <th>Variant Tax Code</th>\n      <th>Cost per item</th>\n    </tr>\n  </thead>\n  <tbody>\n    <tr>\n      <td>0</td>\n      <td>0</td>\n      <td>apfel-birnensaft</td>\n      <td>apfel-birnensaft</td>\n      <td>Die Äpfel und Birnen für dieses reine Naturpro...</td>\n      <td>Mosterei Kramml, Lustenau</td>\n      <td>Fruchtsaft</td>\n      <td>NaN</td>\n      <td>True</td>\n      <td>Title</td>\n      <td>Default Title</td>\n      <td>...</td>\n      <td>NaN</td>\n      <td>NaN</td>\n      <td>NaN</td>\n      <td>NaN</td>\n      <td>NaN</td>\n      <td>NaN</td>\n      <td>NaN</td>\n      <td>NaN</td>\n      <td>NaN</td>\n      <td>NaN</td>\n    </tr>\n    <tr>\n      <td>1</td>\n      <td>1</td>\n      <td>apfelsaft</td>\n      <td>apfelsaft</td>\n      <td>Der naturtrübe Apfelsaft von der Mosterei Kram...</td>\n      <td>Mosterei Kramml, Lustenau</td>\n      <td>Fruchtsaft</td>\n      <td>NaN</td>\n      <td>True</td>\n      <td>Title</td>\n      <td>Default Title</td>\n      <td>...</td>\n      <td>NaN</td>\n      <td>NaN</td>\n      <td>NaN</td>\n      <td>NaN</td>\n      <td>NaN</td>\n      <td>NaN</td>\n      <td>NaN</td>\n      <td>NaN</td>\n      <td>NaN</td>\n      <td>NaN</td>\n    </tr>\n    <tr>\n      <td>2</td>\n      <td>2</td>\n      <td>apfelsaft-boskoop</td>\n      <td>apfelsaft boskoop</td>\n      <td>Der Boskoop Apfel – bei uns im Ländle auch Led...</td>\n      <td>Mosterei Kramml, Lustenau</td>\n      <td>Fruchtsaft</td>\n      <td>NaN</td>\n      <td>True</td>\n      <td>Title</td>\n      <td>Default Title</td>\n      <td>...</td>\n      <td>NaN</td>\n      <td>NaN</td>\n      <td>NaN</td>\n      <td>NaN</td>\n      <td>NaN</td>\n      <td>NaN</td>\n      <td>NaN</td>\n      <td>NaN</td>\n      <td>NaN</td>\n      <td>NaN</td>\n    </tr>\n    <tr>\n      <td>3</td>\n      <td>3</td>\n      <td>apfelsaft-jonagold</td>\n      <td>apfelsaft jonagold</td>\n      <td>Jonagold Äpfel werden bei uns im Ländle seit d...</td>\n      <td>Mosterei Kramml, Lustenau</td>\n      <td>Fruchtsaft</td>\n      <td>NaN</td>\n      <td>True</td>\n      <td>Title</td>\n      <td>Default Title</td>\n      <td>...</td>\n      <td>NaN</td>\n      <td>NaN</td>\n      <td>NaN</td>\n      <td>NaN</td>\n      <td>NaN</td>\n      <td>NaN</td>\n      <td>NaN</td>\n      <td>NaN</td>\n      <td>NaN</td>\n      <td>NaN</td>\n    </tr>\n    <tr>\n      <td>4</td>\n      <td>4</td>\n      <td>apfelsaft-gspritzt</td>\n      <td>apfelsaft g'spritzt</td>\n      <td>Sutterlüty’s gespritzter Apfelsaft ist ein rei...</td>\n      <td>Mosterei Kramml, Lustenau</td>\n      <td>Fruchtsaft gespritzt</td>\n      <td>NaN</td>\n      <td>True</td>\n      <td>Title</td>\n      <td>Default Title</td>\n      <td>...</td>\n      <td>NaN</td>\n      <td>NaN</td>\n      <td>NaN</td>\n      <td>NaN</td>\n      <td>NaN</td>\n      <td>NaN</td>\n      <td>NaN</td>\n      <td>NaN</td>\n      <td>NaN</td>\n      <td>NaN</td>\n    </tr>\n  </tbody>\n</table>\n<p>5 rows × 48 columns</p>\n</div>"
     },
     "metadata": {},
     "execution_count": 2
    }
   ],
   "source": [
    "df=pd.read_csv(\"shopify_product_list.csv\")\n",
    "df.head()"
   ]
  },
  {
   "cell_type": "code",
   "execution_count": 15,
   "metadata": {},
   "outputs": [],
   "source": [
    "translator = Translator()\n",
    "product_names=[]\n",
    "product_descriptions=[]\n",
    "for i in range(df.shape[0]):\n",
    "    trans=translator.translate(df.iloc[i,2])\n",
    "    product_names.append(trans.text)\n",
    "for i in range(df.shape[0]):\n",
    "    text=df.iloc[i,3]\n",
    "    if type(text) is str:\n",
    "        trans=translator.translate(text)\n",
    "        product_descriptions.append(trans.text)"
   ]
  },
  {
   "cell_type": "code",
   "execution_count": 10,
   "metadata": {},
   "outputs": [],
   "source": [
    "token_list=[]\n",
    "for string in product_names:\n",
    "    tokens=nltk.word_tokenize(string)\n",
    "    for i in tokens:\n",
    "        token_list.append(i)\n",
    "freq_map={}\n",
    "for token in token_list:\n",
    "    freq_map[token]=freq_map.get(token,0)+1\n"
   ]
  },
  {
   "cell_type": "code",
   "execution_count": 12,
   "metadata": {},
   "outputs": [
    {
     "output_type": "execute_result",
     "data": {
      "text/plain": "[('cheese', 24),\n ('mountain', 20),\n ('months', 18),\n ('spicy', 13),\n ('bio', 12),\n ('usufruct', 9),\n ('sheep', 8),\n ('mild', 7),\n ('3', 6),\n ('gore', 6),\n ('6', 6),\n (\"'s\", 6),\n ('milk', 6),\n ('yogurt', 6),\n ('currant', 5),\n ('rural', 5),\n ('wälderhennele', 5),\n ('juice', 4),\n ('syrup', 4),\n ('hennele', 4),\n ('was', 4),\n ('steak', 4),\n ('cutlet', 4),\n ('lamb', 4),\n ('forests', 4),\n ('goat', 4),\n ('ziegenkäsle', 4),\n ('with', 4),\n ('dried', 4),\n ('Enjoying', 4)]"
     },
     "metadata": {},
     "execution_count": 12
    }
   ],
   "source": [
    "#find 20 most common keywords\n",
    "k = Counter(freq_map) \n",
    "high = k.most_common(30)\n",
    "high"
   ]
  },
  {
   "cell_type": "code",
   "execution_count": 19,
   "metadata": {},
   "outputs": [
    {
     "output_type": "execute_result",
     "data": {
      "text/plain": "[('by', 83),\n ('on', 71),\n ('for', 66),\n ('Vorarlberg', 66),\n ('natural', 57),\n (\"b'sundrig\", 55),\n ('fine', 53),\n ('best', 52),\n ('only', 51),\n ('as', 48),\n ('region', 47),\n ('small', 46),\n ('organic', 46),\n ('this', 43),\n ('it', 43),\n (':', 43),\n ('milk', 43),\n ('For', 42),\n ('fruit', 41),\n ('that', 39),\n ('traditional', 39),\n ('cheese', 39),\n ('meat', 38),\n ('Ländle', 36),\n ('hand', 36),\n ('-', 35),\n ('quality', 34),\n ('juice', 34),\n ('at', 34),\n ('In', 34),\n ('family', 34),\n ('pure', 32),\n ('be', 32),\n ('enjoyment', 32),\n ('fresh', 30)]"
     },
     "metadata": {},
     "execution_count": 19
    }
   ],
   "source": [
    "token_list=[]\n",
    "for string in product_descriptions:\n",
    "    tokens=nltk.word_tokenize(string)\n",
    "    for i in tokens:\n",
    "        token_list.append(i)\n",
    "freq_map={}\n",
    "for token in token_list:\n",
    "    freq_map[token]=freq_map.get(token,0)+1\n",
    "\n",
    "#find 20 most common keywords\n",
    "k = Counter(freq_map) \n",
    "high = k.most_common(50)\n",
    "high[15:]"
   ]
  },
  {
   "cell_type": "code",
   "execution_count": null,
   "metadata": {},
   "outputs": [],
   "source": []
  }
 ]
}